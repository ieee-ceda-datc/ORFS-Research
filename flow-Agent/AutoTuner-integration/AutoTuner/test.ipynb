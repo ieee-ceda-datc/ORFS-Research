{
 "cells": [
  {
   "cell_type": "code",
   "execution_count": 1,
   "metadata": {},
   "outputs": [],
   "source": [
    "import json\n",
    "import matplotlib.pyplot as plt"
   ]
  },
  {
   "cell_type": "code",
   "execution_count": 22,
   "metadata": {},
   "outputs": [],
   "source": [
    "# Filepath to the experiment_state JSON file\n",
    "file_path = '/home/fetzfs_projects/rdf_2024/sakundu/Amur_ICML/AutoTunerLog/ray_results_aes_sky130hd_WL_ECP/aes_sky130hd_WL_ECP/experiment_state-2025-01-13_19-01-25.json'\n",
    "\n",
    "# Read the JSON file\n",
    "with open(file_path, 'r') as file:\n",
    "    data = json.load(file)\n",
    "\n",
    "# Extract trial data\n",
    "trial_data = data.get('trial_data', [])\n",
    "\n",
    "# Initialize lists to store progress data\n",
    "wirelength_progress = []\n",
    "performance_progress = []\n",
    "wl_ecp_progress = []\n",
    "iterations = []\n",
    "\n",
    "# Iterate through trial data to extract required metrics\n",
    "for trial in trial_data:\n",
    "    trial_info = json.loads(trial[0])\n",
    "    trial_result = json.loads(trial[1])\n",
    "    last_result = trial_result.get('last_result', {})\n",
    "    wirelength = last_result.get('wirelength')\n",
    "    performance = last_result.get('performance')\n",
    "    wl_ecp = last_result.get('WL_ECP')\n",
    "    iteration = last_result.get('training_iteration')\n",
    "\n",
    "    if wirelength is not None and performance is not None and wl_ecp is not None:\n",
    "        wirelength_progress.append(wirelength)\n",
    "        performance_progress.append(performance)\n",
    "        wl_ecp_progress.append(wl_ecp)\n",
    "        iterations.append(iteration)"
   ]
  },
  {
   "cell_type": "code",
   "execution_count": 25,
   "metadata": {},
   "outputs": [
    {
     "name": "stdout",
     "output_type": "stream",
     "text": [
      "Wirelength Progress: 1\n"
     ]
    }
   ],
   "source": [
    "print('Wirelength Progress:', iteration)"
   ]
  },
  {
   "cell_type": "code",
   "execution_count": 21,
   "metadata": {},
   "outputs": [
    {
     "name": "stdout",
     "output_type": "stream",
     "text": [
      "{'design': 'aes', 'tech': 'sky130hd', 'run_dir': '/home/scratch/sakundu/OBJ_aes_sky130hd_WL_ECP', 'clk_period': 4.5, 'util': 20, 'ar': 1, 'density_lb_addon': 0.4936, 'timing_effort': 100, 'power_effort': 0, 'is_hier': 0, 'gp_pad': 0, 'dp_pad': 0, 'enable_dpo': 1, 'cts_cluster_size': 1, 'cts_cluster_dia': 1, 'gp_rd': 1, 'gp_td': 1, 'pin_adj': 0.4, 'up_adj': 0.4}\n",
      "{'power': 0.409419, 'performance': 4.607001, 'WL_ECP': 1.9758934754619963, 'area': 434504.0, 'wirelength': 589849.0, 'CTS_WL': 437131.0, 'CTS_ECP': 4.485163, 'timestamp': 1736830550, 'checkpoint_dir_name': None, 'done': True, 'training_iteration': 1, 'trial_id': '83d7445f', 'date': '2025-01-13_20-55-50', 'time_this_iter_s': 6862.484685659409, 'time_total_s': 6862.484685659409, 'pid': 1151654, 'hostname': 'lvs.ucsd.edu', 'node_ip': '132.239.95.43', 'config': {'design': 'aes', 'tech': 'sky130hd', 'run_dir': '/home/scratch/sakundu/OBJ_aes_sky130hd_WL_ECP', 'clk_period': 4.5, 'util': 20, 'ar': 1, 'density_lb_addon': 0.4936, 'timing_effort': 100, 'power_effort': 0, 'is_hier': 0, 'gp_pad': 0, 'dp_pad': 0, 'enable_dpo': 1, 'cts_cluster_size': 1, 'cts_cluster_dia': 1, 'gp_rd': 1, 'gp_td': 1, 'pin_adj': 0.4, 'up_adj': 0.4}, 'time_since_restore': 6862.484685659409, 'iterations_since_restore': 1, 'experiment_tag': '1_ar=1,clk_period=4.5000,cts_cluster_dia=1,cts_cluster_size=1,density_lb_addon=0.4936,design=aes,dp_pad=0,enable_dpo=1,gp_pad=0,gp_rd=1,gp_td=1,is_hier=0,pin_adj=0.4000,power_effort=0,run_dir=home_scratch_sakundu_OBJ_aes_sky130hd_WL_ECP,tech=sky130hd,timing_effort=100,up_adj=0.4000,util=20'}\n"
     ]
    }
   ],
   "source": [
    "trial_data = data['trial_data']\n",
    "trail_info = json.loads(trial_data[0][0])\n",
    "trail_result = json.loads(trial_data[0][1])\n",
    "print(trail_info['config'])\n",
    "print(trail_result['last_result'])"
   ]
  }
 ],
 "metadata": {
  "kernelspec": {
   "display_name": "cluster",
   "language": "python",
   "name": "cluster"
  },
  "language_info": {
   "codemirror_mode": {
    "name": "ipython",
    "version": 3
   },
   "file_extension": ".py",
   "mimetype": "text/x-python",
   "name": "python",
   "nbconvert_exporter": "python",
   "pygments_lexer": "ipython3",
   "version": "3.10.11"
  }
 },
 "nbformat": 4,
 "nbformat_minor": 2
}
